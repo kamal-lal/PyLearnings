{
 "cells": [
  {
   "attachments": {},
   "cell_type": "markdown",
   "metadata": {},
   "source": [
    "## Hello World!"
   ]
  },
  {
   "cell_type": "code",
   "execution_count": 1,
   "metadata": {},
   "outputs": [
    {
     "name": "stdout",
     "output_type": "stream",
     "text": [
      "Hello, world!\n"
     ]
    }
   ],
   "source": [
    "print('Hello, world!')"
   ]
  },
  {
   "attachments": {},
   "cell_type": "markdown",
   "metadata": {},
   "source": [
    "## Comments\n",
    "Comments start with # symbol. \\\n",
    "There are no multiline comments.\n",
    "\n",
    "VSCode shortcut - `Ctrl + /`"
   ]
  },
  {
   "cell_type": "code",
   "execution_count": 2,
   "metadata": {},
   "outputs": [],
   "source": [
    "# This line is considered as a comment.\n",
    "\n",
    "# For multiline comments, \n",
    "# use # at begining of each line. \n",
    "\n",
    "print(\"Hello\") # can have comments here too.\n",
    "\n",
    "some_variable = \"# this is not a comment.\""
   ]
  },
  {
   "attachments": {},
   "cell_type": "markdown",
   "metadata": {},
   "source": [
    "## Variables\n",
    "- Variable name can have Upper Case (A-Z), Lower case (a-z), Numbers (0-9) and Underscore (_).\n",
    "- Variable name cannot start with underscore (_).\n",
    "- Python keywords cannot be used as variable names. \n",
    "- Values are \"assigned\" to variables using 'Assignment Operator' (=).\n",
    "- By convention, variable names are all lowercase and descriptive. They are written in snake_case.  \n",
    "- Variable data type is not declared in Python. \n",
    "\n",
    "### Bsic Data Types\n",
    "- Boolean (True, False)\n",
    "    - Note first letter is capital in keyword `True` and `False`. \n",
    "    - 'true' and 'false' are not boolean data.  \n",
    "\n",
    "\n",
    "- Integers (eg: 17, -31)\n",
    "    - Prefix `0b` or `0B` for Binary (eg: 0b1001)\n",
    "    - Prefix `0x` or `0X` for Hexadecimal (eg: 0x9E7D)\n",
    "    - Prefix `0o` or `0O` for Octal (eg: 0o721)\n",
    "\n",
    "\n",
    "- Floating Point\n",
    "    - Number will contain decimal point (eg: 123.45, -98.7)\n",
    "    - Can be written in scientefic notation using `e` or `E`. (eg: `3e2` is equal to `3x10`<sup>`2`</sup> and `3e-2` is equal to `3x10`<sup>`-2`</sup>)\n",
    "\n",
    "\n",
    "- Complex Numbers\n",
    "    - In math, complex numbers written as 'a + ib' where i = sq. root of -1. \n",
    "    - In python, instead of 'i', we use 'j'.\n",
    "    - eg: 5+2j, 8-6j\n",
    "\n",
    "\n",
    "- String\n",
    "    - A sequence of characters.\n",
    "    - Enclosed within single quotes or double quotes.\n",
    "    - Special characters are mentioned "
   ]
  },
  {
   "cell_type": "markdown",
   "metadata": {},
   "source": []
  }
 ],
 "metadata": {
  "kernelspec": {
   "display_name": "Python 3",
   "language": "python",
   "name": "python3"
  },
  "language_info": {
   "codemirror_mode": {
    "name": "ipython",
    "version": 3
   },
   "file_extension": ".py",
   "mimetype": "text/x-python",
   "name": "python",
   "nbconvert_exporter": "python",
   "pygments_lexer": "ipython3",
   "version": "3.7.5 (tags/v3.7.5:5c02a39a0b, Oct 15 2019, 00:11:34) [MSC v.1916 64 bit (AMD64)]"
  },
  "orig_nbformat": 4,
  "vscode": {
   "interpreter": {
    "hash": "2e8a02e6b2fb693e6ea3a2b18795ac89374a936270583024973a1a4c32c00362"
   }
  }
 },
 "nbformat": 4,
 "nbformat_minor": 2
}
